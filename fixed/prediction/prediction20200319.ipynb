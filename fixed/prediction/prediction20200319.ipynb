{
 "cells": [
  {
   "cell_type": "code",
   "execution_count": 1,
   "metadata": {},
   "outputs": [
    {
     "name": "stderr",
     "output_type": "stream",
     "text": [
      "Using TensorFlow backend.\n",
      "/home/lab606a/.virtualenvs/keras/lib/python3.6/site-packages/tensorflow/python/framework/dtypes.py:523: FutureWarning: Passing (type, 1) or '1type' as a synonym of type is deprecated; in a future version of numpy, it will be understood as (type, (1,)) / '(1,)type'.\n",
      "  _np_qint8 = np.dtype([(\"qint8\", np.int8, 1)])\n",
      "/home/lab606a/.virtualenvs/keras/lib/python3.6/site-packages/tensorflow/python/framework/dtypes.py:524: FutureWarning: Passing (type, 1) or '1type' as a synonym of type is deprecated; in a future version of numpy, it will be understood as (type, (1,)) / '(1,)type'.\n",
      "  _np_quint8 = np.dtype([(\"quint8\", np.uint8, 1)])\n",
      "/home/lab606a/.virtualenvs/keras/lib/python3.6/site-packages/tensorflow/python/framework/dtypes.py:525: FutureWarning: Passing (type, 1) or '1type' as a synonym of type is deprecated; in a future version of numpy, it will be understood as (type, (1,)) / '(1,)type'.\n",
      "  _np_qint16 = np.dtype([(\"qint16\", np.int16, 1)])\n",
      "/home/lab606a/.virtualenvs/keras/lib/python3.6/site-packages/tensorflow/python/framework/dtypes.py:526: FutureWarning: Passing (type, 1) or '1type' as a synonym of type is deprecated; in a future version of numpy, it will be understood as (type, (1,)) / '(1,)type'.\n",
      "  _np_quint16 = np.dtype([(\"quint16\", np.uint16, 1)])\n",
      "/home/lab606a/.virtualenvs/keras/lib/python3.6/site-packages/tensorflow/python/framework/dtypes.py:527: FutureWarning: Passing (type, 1) or '1type' as a synonym of type is deprecated; in a future version of numpy, it will be understood as (type, (1,)) / '(1,)type'.\n",
      "  _np_qint32 = np.dtype([(\"qint32\", np.int32, 1)])\n",
      "/home/lab606a/.virtualenvs/keras/lib/python3.6/site-packages/tensorflow/python/framework/dtypes.py:532: FutureWarning: Passing (type, 1) or '1type' as a synonym of type is deprecated; in a future version of numpy, it will be understood as (type, (1,)) / '(1,)type'.\n",
      "  np_resource = np.dtype([(\"resource\", np.ubyte, 1)])\n"
     ]
    }
   ],
   "source": [
    "import numpy as np\n",
    "import pandas as pd\n",
    "from keras.preprocessing import sequence\n",
    "from keras.models import Sequential\n",
    "from keras.layers import Dense, LSTM, Activation, TimeDistributed, RepeatVector\n",
    "from keras.regularizers import l2\n",
    "#from keras.preprocessing import sequence"
   ]
  },
  {
   "cell_type": "code",
   "execution_count": 2,
   "metadata": {},
   "outputs": [],
   "source": [
    "import matplotlib.pyplot as plt"
   ]
  },
  {
   "cell_type": "code",
   "execution_count": 3,
   "metadata": {},
   "outputs": [],
   "source": [
    "import tensorflow as tf\n",
    "# set GPU memory\n",
    "gpu_options = tf.GPUOptions(allow_growth=True)\n",
    "sess = tf.Session(config=tf.ConfigProto(gpu_options=gpu_options))"
   ]
  },
  {
   "cell_type": "code",
   "execution_count": 4,
   "metadata": {},
   "outputs": [
    {
     "data": {
      "text/plain": [
       "(500, 72)"
      ]
     },
     "execution_count": 4,
     "metadata": {},
     "output_type": "execute_result"
    }
   ],
   "source": [
    "dataset = pd.read_csv('./datasets/top_speed5_20200304.csv', header=None)\n",
    "dataset = dataset.fillna(0)\n",
    "dataset = np.array(dataset)\n",
    "dataset.shape"
   ]
  },
  {
   "cell_type": "code",
   "execution_count": 5,
   "metadata": {},
   "outputs": [
    {
     "name": "stdout",
     "output_type": "stream",
     "text": [
      "84\n"
     ]
    },
    {
     "data": {
      "text/plain": [
       "array([ 73.1795 , 300.655  ,  44.9941 ,  73.8959 , 281.147  ,  48.2543 ,\n",
       "        73.5858 , 264.331  ,  50.8481 ,  73.9794 , 245.616  ,  51.6464 ,\n",
       "        73.9052 , 229.073  ,  54.2783 ,  74.1134 , 228.405  ,  51.4868 ,\n",
       "        74.002  , 211.73   ,  48.2324 ,  74.0943 , 194.375  ,  45.1484 ,\n",
       "        73.9699 , 178.302  ,  40.6817 ,  73.8376 , 162.547  ,  34.7455 ,\n",
       "        73.8587 , 142.089  ,  29.4841 ,  73.8788 , 125.952  ,  22.3073 ,\n",
       "        73.8821 , 111.421  ,  13.3201 ,  73.7029 ,  97.5873 ,   3.73859,\n",
       "        73.9222 ,  81.2214 ,  11.3436 ,  73.96   ,  65.6757 ,  18.3604 ,\n",
       "        73.9765 ,  50.5348 ,  24.2557 ,  74.0932 ,  35.1753 ,  28.9134 ,\n",
       "        74.1702 ,  20.1247 ,  32.1303 ,  74.325  ,   5.55638,  34.2497 ,\n",
       "        74.4243 ,  -9.04841,  35.1984 ,  74.4748 , -23.3046 ,  34.8265 ,\n",
       "        74.5713 , -37.0783 ,  33.4276 ,  74.5174 , -50.9649 ,  30.9661 ,\n",
       "         0.     ,   0.     ,   0.     ,   0.     ,   0.     ,   0.     ,\n",
       "         0.     ,   0.     ,   0.     ,   0.     ,   0.     ,   0.     ],\n",
       "      dtype=float32)"
      ]
     },
     "execution_count": 5,
     "metadata": {},
     "output_type": "execute_result"
    }
   ],
   "source": [
    "maxlen_train = dataset.shape[1]+12\n",
    "print(maxlen_train)\n",
    "dataset = sequence.pad_sequences(dataset, maxlen=maxlen_train, padding='post', dtype='float32')\n",
    "dataset[0,:]"
   ]
  },
  {
   "cell_type": "code",
   "execution_count": 6,
   "metadata": {},
   "outputs": [
    {
     "data": {
      "text/plain": [
       "9500"
      ]
     },
     "execution_count": 6,
     "metadata": {},
     "output_type": "execute_result"
    }
   ],
   "source": [
    "n_step = 5\n",
    "#depth = (dataset.shape[1]+1-((2*3*n_step)/3))*dataset.shape[0]\n",
    "depth_train = (int(dataset.shape[1]/3)+1-n_step-n_step)*dataset.shape[0] # (all_balls + 1 - input_balls - output_balls)*n_rows\n",
    "depth_train"
   ]
  },
  {
   "cell_type": "code",
   "execution_count": 7,
   "metadata": {},
   "outputs": [],
   "source": [
    "#X = np.zeros([int(depth), n_step, 3])\n",
    "#Y = np.zeros([int(depth), n_step, 3])\n",
    "#X.shape"
   ]
  },
  {
   "cell_type": "code",
   "execution_count": 8,
   "metadata": {},
   "outputs": [],
   "source": [
    "def split(data, depth):\n",
    "    dataset = data\n",
    "    depth = depth\n",
    "    X = np.zeros([int(depth), n_step, 3])\n",
    "    Y = np.zeros([int(depth), n_step, 3])\n",
    "    c = 0\n",
    "    d = 0\n",
    "    \n",
    "    for i in range(int(depth)):\n",
    "        for j in range(n_step):\n",
    "            if d < dataset.shape[0]:\n",
    "                X[i,j,:] = dataset[d, c:c+3]\n",
    "                Y[i,j,:] = dataset[d, (c+3*n_step):(c+3*n_step+3)]\n",
    "                \n",
    "                if ((c+3*n_step+3) != (dataset.shape[1])):\n",
    "                    c +=3\n",
    "                else:\n",
    "                    c = 0\n",
    "                    d += 1\n",
    "        if (c-3) > 0:\n",
    "            c = (c - 3*n_step + 3)\n",
    "        else:\n",
    "            c = c\n",
    "            \n",
    "    return X, Y"
   ]
  },
  {
   "cell_type": "code",
   "execution_count": 9,
   "metadata": {},
   "outputs": [],
   "source": [
    "x_train, y_train = split(data=dataset, depth=depth_train)"
   ]
  },
  {
   "cell_type": "code",
   "execution_count": 10,
   "metadata": {
    "scrolled": true
   },
   "outputs": [
    {
     "data": {
      "text/plain": [
       "array([[[ 73.17949677, 300.65499878,  44.99409866],\n",
       "        [ 73.89589691, 281.14700317,  48.25429916],\n",
       "        [ 73.58580017, 264.33099365,  50.84809875],\n",
       "        [ 73.97940063, 245.61599731,  51.64640045],\n",
       "        [ 73.90519714, 229.07299805,  54.27830124]],\n",
       "\n",
       "       [[ 73.89589691, 281.14700317,  48.25429916],\n",
       "        [ 73.58580017, 264.33099365,  50.84809875],\n",
       "        [ 73.97940063, 245.61599731,  51.64640045],\n",
       "        [ 73.90519714, 229.07299805,  54.27830124],\n",
       "        [ 74.11340332, 228.40499878,  51.48680115]],\n",
       "\n",
       "       [[ 73.58580017, 264.33099365,  50.84809875],\n",
       "        [ 73.97940063, 245.61599731,  51.64640045],\n",
       "        [ 73.90519714, 229.07299805,  54.27830124],\n",
       "        [ 74.11340332, 228.40499878,  51.48680115],\n",
       "        [ 74.0019989 , 211.72999573,  48.23239899]],\n",
       "\n",
       "       ...,\n",
       "\n",
       "       [[ 84.09320068,   8.44544029,  32.17539978],\n",
       "        [ 84.71690369,  -6.88921022,  34.24319839],\n",
       "        [ 85.30690002, -22.07189941,  35.35329819],\n",
       "        [ 85.81590271, -37.28020096,  35.29710007],\n",
       "        [ 86.40280151, -52.13090134,  34.20069885]],\n",
       "\n",
       "       [[ 84.71690369,  -6.88921022,  34.24319839],\n",
       "        [ 85.30690002, -22.07189941,  35.35329819],\n",
       "        [ 85.81590271, -37.28020096,  35.29710007],\n",
       "        [ 86.40280151, -52.13090134,  34.20069885],\n",
       "        [  0.        ,   0.        ,   0.        ]],\n",
       "\n",
       "       [[ 85.30690002, -22.07189941,  35.35329819],\n",
       "        [ 85.81590271, -37.28020096,  35.29710007],\n",
       "        [ 86.40280151, -52.13090134,  34.20069885],\n",
       "        [  0.        ,   0.        ,   0.        ],\n",
       "        [  0.        ,   0.        ,   0.        ]]])"
      ]
     },
     "execution_count": 10,
     "metadata": {},
     "output_type": "execute_result"
    }
   ],
   "source": [
    "#x_train = x_train.astype('int')\n",
    "x_train"
   ]
  },
  {
   "cell_type": "code",
   "execution_count": 11,
   "metadata": {
    "scrolled": true
   },
   "outputs": [
    {
     "data": {
      "text/plain": [
       "array([[[ 74.11340332, 228.40499878,  51.48680115],\n",
       "        [ 74.0019989 , 211.72999573,  48.23239899],\n",
       "        [ 74.09429932, 194.375     ,  45.14839935],\n",
       "        [ 73.96990204, 178.30200195,  40.68170166],\n",
       "        [ 73.83760071, 162.54699707,  34.74549866]],\n",
       "\n",
       "       [[ 74.0019989 , 211.72999573,  48.23239899],\n",
       "        [ 74.09429932, 194.375     ,  45.14839935],\n",
       "        [ 73.96990204, 178.30200195,  40.68170166],\n",
       "        [ 73.83760071, 162.54699707,  34.74549866],\n",
       "        [ 73.85870361, 142.08900452,  29.48410034]],\n",
       "\n",
       "       [[ 74.09429932, 194.375     ,  45.14839935],\n",
       "        [ 73.96990204, 178.30200195,  40.68170166],\n",
       "        [ 73.83760071, 162.54699707,  34.74549866],\n",
       "        [ 73.85870361, 142.08900452,  29.48410034],\n",
       "        [ 73.87879944, 125.95200348,  22.30730057]],\n",
       "\n",
       "       ...,\n",
       "\n",
       "       [[  0.        ,   0.        ,   0.        ],\n",
       "        [  0.        ,   0.        ,   0.        ],\n",
       "        [  0.        ,   0.        ,   0.        ],\n",
       "        [  0.        ,   0.        ,   0.        ],\n",
       "        [  0.        ,   0.        ,   0.        ]],\n",
       "\n",
       "       [[  0.        ,   0.        ,   0.        ],\n",
       "        [  0.        ,   0.        ,   0.        ],\n",
       "        [  0.        ,   0.        ,   0.        ],\n",
       "        [  0.        ,   0.        ,   0.        ],\n",
       "        [  0.        ,   0.        ,   0.        ]],\n",
       "\n",
       "       [[  0.        ,   0.        ,   0.        ],\n",
       "        [  0.        ,   0.        ,   0.        ],\n",
       "        [  0.        ,   0.        ,   0.        ],\n",
       "        [  0.        ,   0.        ,   0.        ],\n",
       "        [  0.        ,   0.        ,   0.        ]]])"
      ]
     },
     "execution_count": 11,
     "metadata": {},
     "output_type": "execute_result"
    }
   ],
   "source": [
    "#y_train = y_train.astype('int')\n",
    "y_train"
   ]
  },
  {
   "cell_type": "code",
   "execution_count": 12,
   "metadata": {},
   "outputs": [
    {
     "name": "stdout",
     "output_type": "stream",
     "text": [
      "_________________________________________________________________\n",
      "Layer (type)                 Output Shape              Param #   \n",
      "=================================================================\n",
      "lstm_1 (LSTM)                (None, 256)               266240    \n",
      "_________________________________________________________________\n",
      "repeat_vector_1 (RepeatVecto (None, 5, 256)            0         \n",
      "_________________________________________________________________\n",
      "lstm_2 (LSTM)                (None, 5, 256)            525312    \n",
      "_________________________________________________________________\n",
      "time_distributed_1 (TimeDist (None, 5, 3)              771       \n",
      "=================================================================\n",
      "Total params: 792,323\n",
      "Trainable params: 792,323\n",
      "Non-trainable params: 0\n",
      "_________________________________________________________________\n"
     ]
    }
   ],
   "source": [
    "\n",
    "model = Sequential()\n",
    "model.add(LSTM(256, activation='linear', input_shape=(x_train.shape[1], x_train.shape[2])))\n",
    "model.add(RepeatVector(x_train.shape[1]))\n",
    "model.add(LSTM(256, activation='linear', return_sequences=True))\n",
    "model.add(TimeDistributed(Dense(3)))\n",
    "\n",
    "model.compile(loss='mean_absolute_error', optimizer='adam', metrics=['accuracy'])\n",
    "model.summary()\n",
    "\n",
    "#mean_absolute_error\n",
    "#mean_absolute_percentage_error\n"
   ]
  },
  {
   "cell_type": "code",
   "execution_count": 13,
   "metadata": {},
   "outputs": [
    {
     "data": {
      "text/plain": [
       "\"\\nmodel = Sequential()\\nmodel.add(LSTM(256, activation='linear', input_shape=(x_train.shape[1], x_train.shape[2]), return_sequences=True))\\nmodel.add(LSTM(128, activation='linear', return_sequences=True))\\nmodel.add(LSTM(64, activation='linear', return_sequences=True))\\nmodel.add(LSTM(32, activation='linear'))\\nmodel.add(RepeatVector(x_train.shape[1]))\\nmodel.add(LSTM(32, activation='linear', return_sequences=True))\\nmodel.add(LSTM(64, activation='linear', return_sequences=True))\\nmodel.add(LSTM(128, activation='linear', return_sequences=True))\\nmodel.add(LSTM(256, activation='linear', return_sequences=True))\\nmodel.add(TimeDistributed(Dense(3)))\\n\\nmodel.compile(loss='mean_absolute_error', optimizer='adam', metrics=['accuracy'])\\nmodel.summary()\\n\""
      ]
     },
     "execution_count": 13,
     "metadata": {},
     "output_type": "execute_result"
    }
   ],
   "source": [
    "'''\n",
    "model = Sequential()\n",
    "model.add(LSTM(256, activation='linear', input_shape=(x_train.shape[1], x_train.shape[2]), return_sequences=True))\n",
    "model.add(LSTM(128, activation='linear', return_sequences=True))\n",
    "model.add(LSTM(64, activation='linear', return_sequences=True))\n",
    "model.add(LSTM(32, activation='linear'))\n",
    "model.add(RepeatVector(x_train.shape[1]))\n",
    "model.add(LSTM(32, activation='linear', return_sequences=True))\n",
    "model.add(LSTM(64, activation='linear', return_sequences=True))\n",
    "model.add(LSTM(128, activation='linear', return_sequences=True))\n",
    "model.add(LSTM(256, activation='linear', return_sequences=True))\n",
    "model.add(TimeDistributed(Dense(3)))\n",
    "\n",
    "model.compile(loss='mean_absolute_error', optimizer='adam', metrics=['accuracy'])\n",
    "model.summary()\n",
    "'''"
   ]
  },
  {
   "cell_type": "code",
   "execution_count": 14,
   "metadata": {
    "scrolled": true
   },
   "outputs": [
    {
     "name": "stdout",
     "output_type": "stream",
     "text": [
      "Epoch 1/10\n",
      "9500/9500 [==============================] - 1s 105us/step - loss: 17.0104 - acc: 0.7834\n",
      "Epoch 2/10\n",
      "9500/9500 [==============================] - 0s 31us/step - loss: 4.4443 - acc: 0.8676\n",
      "Epoch 3/10\n",
      "9500/9500 [==============================] - 0s 35us/step - loss: 3.1699 - acc: 0.8759\n",
      "Epoch 4/10\n",
      "9500/9500 [==============================] - 0s 35us/step - loss: 3.0480 - acc: 0.8615\n",
      "Epoch 5/10\n",
      "9500/9500 [==============================] - 0s 31us/step - loss: 3.0016 - acc: 0.8721\n",
      "Epoch 6/10\n",
      "9500/9500 [==============================] - 0s 31us/step - loss: 2.8745 - acc: 0.8684\n",
      "Epoch 7/10\n",
      "9500/9500 [==============================] - 0s 32us/step - loss: 2.5214 - acc: 0.8680\n",
      "Epoch 8/10\n",
      "9500/9500 [==============================] - 0s 33us/step - loss: 2.6712 - acc: 0.8592\n",
      "Epoch 9/10\n",
      "9500/9500 [==============================] - 0s 29us/step - loss: 2.4363 - acc: 0.8751\n",
      "Epoch 10/10\n",
      "9500/9500 [==============================] - 0s 31us/step - loss: 2.2628 - acc: 0.8674\n"
     ]
    }
   ],
   "source": [
    "history = model.fit(x_train, y_train, batch_size=500, epochs=10)\n",
    "#history = model.fit(X, Y, batch_size=500, epochs=300, shuffle=True)"
   ]
  },
  {
   "cell_type": "code",
   "execution_count": 15,
   "metadata": {},
   "outputs": [
    {
     "data": {
      "image/png": "[encoded data removed]",
      "text/plain": [
       "<Figure size 432x288 with 1 Axes>"
      ]
     },
     "metadata": {
      "needs_background": "light"
     },
     "output_type": "display_data"
    }
   ],
   "source": [
    "# summarize history for accuracy\n",
    "plt.plot(history.history['acc'])\n",
    "#plt.plot(history.history['val_accuracy'])\n",
    "plt.title('model accuracy')\n",
    "plt.ylabel('accuracy')\n",
    "plt.xlabel('epoch')\n",
    "plt.legend(['train', 'test'], loc='upper left')\n",
    "plt.show()"
   ]
  },
  {
   "cell_type": "code",
   "execution_count": 16,
   "metadata": {},
   "outputs": [
    {
     "data": {
      "image/png": "[encoded data removed]",
      "text/plain": [
       "<Figure size 432x288 with 1 Axes>"
      ]
     },
     "metadata": {
      "needs_background": "light"
     },
     "output_type": "display_data"
    }
   ],
   "source": [
    "# summarize history for loss\n",
    "plt.plot(history.history['loss'])\n",
    "#plt.plot(history.history['val_loss'])\n",
    "plt.title('model loss')\n",
    "plt.ylabel('loss')\n",
    "plt.xlabel('epoch')\n",
    "plt.legend(['train', 'test'], loc='upper left')\n",
    "plt.show()"
   ]
  },
  {
   "cell_type": "code",
   "execution_count": 17,
   "metadata": {},
   "outputs": [],
   "source": [
    "np.set_printoptions(suppress=True)"
   ]
  },
  {
   "cell_type": "code",
   "execution_count": 18,
   "metadata": {},
   "outputs": [
    {
     "data": {
      "text/plain": [
       "array([[[ 73.97940063, 245.61599731,  51.64640045],\n",
       "        [ 73.90519714, 229.07299805,  54.27830124],\n",
       "        [ 74.11340332, 228.40499878,  51.48680115],\n",
       "        [ 74.0019989 , 211.72999573,  48.23239899],\n",
       "        [ 74.09429932, 194.375     ,  45.14839935]]])"
      ]
     },
     "execution_count": 18,
     "metadata": {},
     "output_type": "execute_result"
    }
   ],
   "source": [
    "x_test = x_train[3,:,:]\n",
    "x_test = x_test.reshape(1,n_step,3)\n",
    "x_test"
   ]
  },
  {
   "cell_type": "code",
   "execution_count": 19,
   "metadata": {},
   "outputs": [
    {
     "data": {
      "text/plain": [
       "array([[[ 73.96990204, 178.30200195,  40.68170166],\n",
       "        [ 73.83760071, 162.54699707,  34.74549866],\n",
       "        [ 73.85870361, 142.08900452,  29.48410034],\n",
       "        [ 73.87879944, 125.95200348,  22.30730057],\n",
       "        [ 73.88210297, 111.42099762,  13.32009983]]])"
      ]
     },
     "execution_count": 19,
     "metadata": {},
     "output_type": "execute_result"
    }
   ],
   "source": [
    "yhat = y_train[3,:,:]\n",
    "yhat = yhat.reshape(1,n_step,3)\n",
    "yhat"
   ]
  },
  {
   "cell_type": "code",
   "execution_count": 20,
   "metadata": {},
   "outputs": [
    {
     "data": {
      "text/plain": [
       "array([[[ 72.7222  , 168.46533 ,  45.226   ],\n",
       "        [ 71.91973 , 150.08055 ,  38.064316],\n",
       "        [ 72.65187 , 133.66127 ,  32.921772],\n",
       "        [ 73.464195, 118.18287 ,  27.092337],\n",
       "        [ 73.28022 , 103.59999 ,  21.512215]]], dtype=float32)"
      ]
     },
     "execution_count": 20,
     "metadata": {},
     "output_type": "execute_result"
    }
   ],
   "source": [
    "pred = model.predict(x_test)\n",
    "pred"
   ]
  },
  {
   "cell_type": "code",
   "execution_count": 21,
   "metadata": {},
   "outputs": [
    {
     "data": {
      "text/plain": [
       "array([[[ 1.24770355,  9.83666992, -4.54430008],\n",
       "        [ 1.91786957, 12.46644592, -3.31881714],\n",
       "        [ 1.20683289,  8.42773438, -3.43767166],\n",
       "        [ 0.41460419,  7.76913452, -4.78503609],\n",
       "        [ 0.60188293,  7.82100677, -8.19211483]]])"
      ]
     },
     "execution_count": 21,
     "metadata": {},
     "output_type": "execute_result"
    }
   ],
   "source": [
    "error = yhat-pred\n",
    "error"
   ]
  },
  {
   "cell_type": "code",
   "execution_count": 22,
   "metadata": {},
   "outputs": [
    {
     "data": {
      "text/plain": [
       "(250, 78)"
      ]
     },
     "execution_count": 22,
     "metadata": {},
     "output_type": "execute_result"
    }
   ],
   "source": [
    "dataset_test = pd.read_csv('./test/top_speed5_20200304_test.csv', header=None)\n",
    "dataset_test = dataset_test.fillna(0)\n",
    "dataset_test = np.array(dataset_test)\n",
    "dataset_test.shape"
   ]
  },
  {
   "cell_type": "code",
   "execution_count": 23,
   "metadata": {},
   "outputs": [
    {
     "data": {
      "text/plain": [
       "(250, 90)"
      ]
     },
     "execution_count": 23,
     "metadata": {},
     "output_type": "execute_result"
    }
   ],
   "source": [
    "maxlen_test = dataset_test.shape[1]+12\n",
    "dataset_test = sequence.pad_sequences(dataset_test, maxlen=maxlen_test, padding='post', dtype='float32')\n",
    "dataset_test.shape"
   ]
  },
  {
   "cell_type": "code",
   "execution_count": 24,
   "metadata": {},
   "outputs": [
    {
     "data": {
      "text/plain": [
       "5250"
      ]
     },
     "execution_count": 24,
     "metadata": {},
     "output_type": "execute_result"
    }
   ],
   "source": [
    "depth_test = (int(dataset_test.shape[1]/3)+1-n_step-n_step)*dataset_test.shape[0] # (all_balls + 1 - input_balls - output_balls)*n_rows\n",
    "depth_test"
   ]
  },
  {
   "cell_type": "code",
   "execution_count": 25,
   "metadata": {},
   "outputs": [],
   "source": [
    "x_test, y_test = split(data=dataset_test, depth=depth_test)"
   ]
  },
  {
   "cell_type": "code",
   "execution_count": 26,
   "metadata": {},
   "outputs": [
    {
     "data": {
      "text/plain": [
       "numpy.ndarray"
      ]
     },
     "execution_count": 26,
     "metadata": {},
     "output_type": "execute_result"
    }
   ],
   "source": [
    "type(x_test)"
   ]
  },
  {
   "cell_type": "code",
   "execution_count": 27,
   "metadata": {
    "scrolled": true
   },
   "outputs": [
    {
     "data": {
      "text/plain": [
       "array([[[ 74.65938   , 203.66528   ,  52.181442  ],\n",
       "        [ 74.00026   , 184.52435   ,  49.906616  ],\n",
       "        [ 74.50339   , 167.06819   ,  47.189114  ],\n",
       "        [ 74.8661    , 149.2971    ,  42.369064  ],\n",
       "        [ 74.554695  , 132.90327   ,  36.477303  ]],\n",
       "\n",
       "       [[ 74.609764  , 188.33516   ,  49.29311   ],\n",
       "        [ 73.792404  , 169.9041    ,  45.830666  ],\n",
       "        [ 74.741905  , 152.84814   ,  41.891632  ],\n",
       "        [ 74.9238    , 135.69621   ,  36.43281   ],\n",
       "        [ 75.801834  , 119.77616   ,  30.60807   ]],\n",
       "\n",
       "       [[ 74.93289   , 171.691     ,  44.691303  ],\n",
       "        [ 73.92414   , 153.89944   ,  38.81459   ],\n",
       "        [ 74.68526   , 136.39026   ,  32.72299   ],\n",
       "        [ 74.7718    , 120.06327   ,  25.710522  ],\n",
       "        [ 74.51658   , 103.61649   ,  19.330221  ]],\n",
       "\n",
       "       ...,\n",
       "\n",
       "       [[  0.04571119,   0.01263228,   0.01778448],\n",
       "        [  0.08435086,   0.02580857,   0.01282858],\n",
       "        [  0.10156206,   0.02758793,   0.01673862],\n",
       "        [  0.1070274 ,   0.01979916,   0.02173674],\n",
       "        [  0.1059177 ,   0.00412678,   0.02504053]],\n",
       "\n",
       "       [[  0.09338105,  -0.00987178,   0.03813572],\n",
       "        [  0.12421086,   0.00042875,   0.04026216],\n",
       "        [  0.1347765 ,   0.00971763,   0.03826238],\n",
       "        [  0.13777946,   0.01338241,   0.03739497],\n",
       "        [  0.13825558,   0.01250021,   0.03785587]],\n",
       "\n",
       "       [[  0.09693272,  -0.05170494,   0.06454962],\n",
       "        [  0.13628992,  -0.07403454,   0.08880191],\n",
       "        [  0.15287156,  -0.0800109 ,   0.09847766],\n",
       "        [  0.15775982,  -0.07964621,   0.10150765],\n",
       "        [  0.15712754,  -0.077277  ,   0.10169582]]], dtype=float32)"
      ]
     },
     "execution_count": 27,
     "metadata": {},
     "output_type": "execute_result"
    }
   ],
   "source": [
    "pred = model.predict(x_test)\n",
    "pred"
   ]
  },
  {
   "cell_type": "code",
   "execution_count": 28,
   "metadata": {
    "scrolled": true
   },
   "outputs": [
    {
     "data": {
      "text/plain": [
       "array([[[ 76.82530212, 211.9750061 ,  50.10810089],\n",
       "        [ 77.26399994, 197.48399353,  46.81729889],\n",
       "        [ 77.66020203, 183.07400513,  42.67549896],\n",
       "        [ 78.19850159, 168.02900696,  37.35160065],\n",
       "        [ 78.47910309, 152.41099548,  31.42370033]],\n",
       "\n",
       "       [[ 77.26399994, 197.48399353,  46.81729889],\n",
       "        [ 77.66020203, 183.07400513,  42.67549896],\n",
       "        [ 78.19850159, 168.02900696,  37.35160065],\n",
       "        [ 78.47910309, 152.41099548,  31.42370033],\n",
       "        [ 78.75060272, 138.49200439,  24.00399971]],\n",
       "\n",
       "       [[ 77.66020203, 183.07400513,  42.67549896],\n",
       "        [ 78.19850159, 168.02900696,  37.35160065],\n",
       "        [ 78.47910309, 152.41099548,  31.42370033],\n",
       "        [ 78.75060272, 138.49200439,  24.00399971],\n",
       "        [ 78.83570099, 125.92299652,  15.3434    ]],\n",
       "\n",
       "       ...,\n",
       "\n",
       "       [[  0.        ,   0.        ,   0.        ],\n",
       "        [  0.        ,   0.        ,   0.        ],\n",
       "        [  0.        ,   0.        ,   0.        ],\n",
       "        [  0.        ,   0.        ,   0.        ],\n",
       "        [  0.        ,   0.        ,   0.        ]],\n",
       "\n",
       "       [[  0.        ,   0.        ,   0.        ],\n",
       "        [  0.        ,   0.        ,   0.        ],\n",
       "        [  0.        ,   0.        ,   0.        ],\n",
       "        [  0.        ,   0.        ,   0.        ],\n",
       "        [  0.        ,   0.        ,   0.        ]],\n",
       "\n",
       "       [[  0.        ,   0.        ,   0.        ],\n",
       "        [  0.        ,   0.        ,   0.        ],\n",
       "        [  0.        ,   0.        ,   0.        ],\n",
       "        [  0.        ,   0.        ,   0.        ],\n",
       "        [  0.        ,   0.        ,   0.        ]]])"
      ]
     },
     "execution_count": 28,
     "metadata": {},
     "output_type": "execute_result"
    }
   ],
   "source": [
    "y_test"
   ]
  },
  {
   "cell_type": "code",
   "execution_count": 29,
   "metadata": {
    "scrolled": true
   },
   "outputs": [
    {
     "data": {
      "text/plain": [
       "array([[[ 2.16592407,  8.3097229 , -2.07334137],\n",
       "        [ 3.26374054, 12.9596405 , -3.08931732],\n",
       "        [ 3.15681458, 16.0058136 , -4.51361465],\n",
       "        [ 3.33240509, 18.73190308, -5.01746368],\n",
       "        [ 3.92440796, 19.50772095, -5.05360222]],\n",
       "\n",
       "       [[ 2.65423584,  9.14883423, -2.475811  ],\n",
       "        [ 3.86779785, 13.16990662, -3.15516663],\n",
       "        [ 3.45659637, 15.18086243, -4.54003143],\n",
       "        [ 3.55530548, 16.71478271, -5.0091114 ],\n",
       "        [ 2.94876862, 18.7158432 , -6.60407066]],\n",
       "\n",
       "       [[ 2.72731018, 11.38301086, -2.01580429],\n",
       "        [ 4.27436066, 14.12956238, -1.46298981],\n",
       "        [ 3.79384613, 16.02073669, -1.2992878 ],\n",
       "        [ 3.97880554, 18.42873383, -1.70652199],\n",
       "        [ 4.31912231, 22.3065033 , -3.98682117]],\n",
       "\n",
       "       ...,\n",
       "\n",
       "       [[-0.04571119, -0.01263228, -0.01778448],\n",
       "        [-0.08435086, -0.02580857, -0.01282858],\n",
       "        [-0.10156206, -0.02758793, -0.01673862],\n",
       "        [-0.1070274 , -0.01979916, -0.02173674],\n",
       "        [-0.1059177 , -0.00412678, -0.02504053]],\n",
       "\n",
       "       [[-0.09338105,  0.00987178, -0.03813572],\n",
       "        [-0.12421086, -0.00042875, -0.04026216],\n",
       "        [-0.1347765 , -0.00971763, -0.03826238],\n",
       "        [-0.13777946, -0.01338241, -0.03739497],\n",
       "        [-0.13825558, -0.01250021, -0.03785587]],\n",
       "\n",
       "       [[-0.09693272,  0.05170494, -0.06454962],\n",
       "        [-0.13628992,  0.07403454, -0.08880191],\n",
       "        [-0.15287156,  0.0800109 , -0.09847766],\n",
       "        [-0.15775982,  0.07964621, -0.10150765],\n",
       "        [-0.15712754,  0.077277  , -0.10169582]]])"
      ]
     },
     "execution_count": 29,
     "metadata": {},
     "output_type": "execute_result"
    }
   ],
   "source": [
    "error = y_test-pred\n",
    "error"
   ]
  },
  {
   "cell_type": "code",
   "execution_count": 30,
   "metadata": {},
   "outputs": [
    {
     "data": {
      "text/plain": [
       "(26250, 3)"
      ]
     },
     "execution_count": 30,
     "metadata": {},
     "output_type": "execute_result"
    }
   ],
   "source": [
    "error = error.reshape(error.shape[0]*error.shape[1], error.shape[2])\n",
    "error.shape"
   ]
  },
  {
   "cell_type": "code",
   "execution_count": 31,
   "metadata": {},
   "outputs": [],
   "source": [
    "y_test = y_test.reshape(y_test.shape[0]*y_test.shape[1], y_test.shape[2])\n",
    "pred = pred.reshape(pred.shape[0]*pred.shape[1], pred.shape[2])\n",
    "#pred.shape\n",
    "tmp = np.hstack((y_test, pred))\n",
    "tmp = np.hstack((tmp, error))"
   ]
  },
  {
   "cell_type": "code",
   "execution_count": 32,
   "metadata": {},
   "outputs": [],
   "source": [
    "df = pd.DataFrame(tmp)\n",
    "df\n",
    "df.to_csv('./prediction_top5.csv',index=0 ,header=0)"
   ]
  }
 ],
 "metadata": {
  "kernelspec": {
   "display_name": "Python 3",
   "language": "python",
   "name": "python3"
  },
  "language_info": {
   "codemirror_mode": {
    "name": "ipython",
    "version": 3
   },
   "file_extension": ".py",
   "mimetype": "text/x-python",
   "name": "python",
   "nbconvert_exporter": "python",
   "pygments_lexer": "ipython3",
   "version": "3.6.9"
  }
 },
 "nbformat": 4,
 "nbformat_minor": 4
}
